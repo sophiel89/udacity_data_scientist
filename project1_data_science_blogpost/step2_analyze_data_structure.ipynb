{
 "cells": [
  {
   "cell_type": "code",
   "execution_count": 1,
   "id": "a091db59",
   "metadata": {},
   "outputs": [],
   "source": [
    "# Import libraries\n",
    "import numpy as np\n",
    "import pandas as pd\n",
    "import geopandas as gpd\n",
    "import os"
   ]
  },
  {
   "cell_type": "code",
   "execution_count": 2,
   "id": "846cd896",
   "metadata": {},
   "outputs": [
    {
     "name": "stderr",
     "output_type": "stream",
     "text": [
      "/var/folders/n_/nqtn08_x2q794gzf5tpkt3vh0000gn/T/ipykernel_25055/3091754864.py:8: DtypeWarning: Columns (2,23,41,42,50,58) have mixed types. Specify dtype option on import or set low_memory=False.\n",
      "  b_2212_lst = pd.read_csv('processed/b_2212_lst.csv')\n"
     ]
    }
   ],
   "source": [
    "# Import processed files\n",
    "m_2309_lst = pd.read_csv('processed/m_2309_lst.csv')\n",
    "m_2212_cal = pd.read_csv('processed/m_2309_cal.csv')\n",
    "m_2212_lst = pd.read_csv('processed/m_2212_lst.csv')\n",
    "m_2309_cal = pd.read_csv('processed/m_2212_cal.csv')\n",
    "b_2309_lst = pd.read_csv('processed/b_2309_lst.csv')\n",
    "b_2309_cal = pd.read_csv('processed/b_2309_cal.csv')\n",
    "b_2212_lst = pd.read_csv('processed/b_2212_lst.csv')\n",
    "b_2212_cal = pd.read_csv('processed/b_2212_cal.csv')"
   ]
  },
  {
   "cell_type": "code",
   "execution_count": 3,
   "id": "7cd00e53",
   "metadata": {},
   "outputs": [
    {
     "name": "stdout",
     "output_type": "stream",
     "text": [
      "id                                                int64\n",
      "listing_url                                      object\n",
      "scrape_id                                         int64\n",
      "last_scraped                                     object\n",
      "source                                           object\n",
      "                                                 ...   \n",
      "calculated_host_listings_count_private_rooms      int64\n",
      "calculated_host_listings_count_shared_rooms       int64\n",
      "reviews_per_month                               float64\n",
      "price                                             int64\n",
      "geometry                                         object\n",
      "Length: 73, dtype: object\n",
      "listing_id         int64\n",
      "date              object\n",
      "available         object\n",
      "price             object\n",
      "adjusted_price    object\n",
      "minimum_nights     int64\n",
      "maximum_nights     int64\n",
      "dtype: object\n"
     ]
    }
   ],
   "source": [
    "# check data types\n",
    "print(m_2309_lst.dtypes)\n",
    "print(m_2309_cal.dtypes)"
   ]
  },
  {
   "cell_type": "code",
   "execution_count": 4,
   "id": "63b48de1",
   "metadata": {},
   "outputs": [
    {
     "data": {
      "text/html": [
       "<div>\n",
       "<style scoped>\n",
       "    .dataframe tbody tr th:only-of-type {\n",
       "        vertical-align: middle;\n",
       "    }\n",
       "\n",
       "    .dataframe tbody tr th {\n",
       "        vertical-align: top;\n",
       "    }\n",
       "\n",
       "    .dataframe thead th {\n",
       "        text-align: right;\n",
       "    }\n",
       "</style>\n",
       "<table border=\"1\" class=\"dataframe\">\n",
       "  <thead>\n",
       "    <tr style=\"text-align: right;\">\n",
       "      <th></th>\n",
       "      <th>Column</th>\n",
       "      <th>Unique Entries</th>\n",
       "    </tr>\n",
       "  </thead>\n",
       "  <tbody>\n",
       "    <tr>\n",
       "      <th>0</th>\n",
       "      <td>listing_url</td>\n",
       "      <td>7336</td>\n",
       "    </tr>\n",
       "    <tr>\n",
       "      <th>1</th>\n",
       "      <td>last_scraped</td>\n",
       "      <td>2</td>\n",
       "    </tr>\n",
       "    <tr>\n",
       "      <th>2</th>\n",
       "      <td>source</td>\n",
       "      <td>2</td>\n",
       "    </tr>\n",
       "    <tr>\n",
       "      <th>3</th>\n",
       "      <td>name</td>\n",
       "      <td>2150</td>\n",
       "    </tr>\n",
       "    <tr>\n",
       "      <th>4</th>\n",
       "      <td>description</td>\n",
       "      <td>6785</td>\n",
       "    </tr>\n",
       "  </tbody>\n",
       "</table>\n",
       "</div>"
      ],
      "text/plain": [
       "         Column  Unique Entries\n",
       "0   listing_url            7336\n",
       "1  last_scraped               2\n",
       "2        source               2\n",
       "3          name            2150\n",
       "4   description            6785"
      ]
     },
     "execution_count": 4,
     "metadata": {},
     "output_type": "execute_result"
    }
   ],
   "source": [
    "# Check for number of categorical variables in listings\n",
    "subset_cat_var_lst = m_2309_lst.select_dtypes(include=['object']) \n",
    "subset_cat_var_lst.shape[1]\n",
    "\n",
    "cat_cols = []\n",
    "dif_entries_in_col = []\n",
    "\n",
    "for col in subset_cat_var_lst:\n",
    "    cat_cols.append(col)\n",
    "    dif_entries_in_col.append(subset_cat_var_lst[col].nunique())\n",
    "    \n",
    "entries_per_col = pd.DataFrame({'Column': cat_cols, 'Unique Entries': dif_entries_in_col})\n",
    "entries_per_col.head()"
   ]
  },
  {
   "cell_type": "code",
   "execution_count": 5,
   "id": "a1ecf409",
   "metadata": {},
   "outputs": [
    {
     "data": {
      "text/plain": [
       "Index(['id', 'listing_url', 'scrape_id', 'last_scraped', 'source', 'name',\n",
       "       'description', 'neighborhood_overview', 'picture_url', 'host_id',\n",
       "       'host_url', 'host_name', 'host_since', 'host_location', 'host_about',\n",
       "       'host_response_time', 'host_response_rate', 'host_acceptance_rate',\n",
       "       'host_is_superhost', 'host_thumbnail_url', 'host_picture_url',\n",
       "       'host_neighbourhood', 'host_listings_count',\n",
       "       'host_total_listings_count', 'host_verifications',\n",
       "       'host_has_profile_pic', 'host_identity_verified', 'neighbourhood',\n",
       "       'neighbourhood_cleansed', 'latitude', 'longitude', 'property_type',\n",
       "       'room_type', 'accommodates', 'bathrooms_text', 'bedrooms', 'beds',\n",
       "       'amenities', 'minimum_nights', 'maximum_nights',\n",
       "       'minimum_minimum_nights', 'maximum_minimum_nights',\n",
       "       'minimum_maximum_nights', 'maximum_maximum_nights',\n",
       "       'minimum_nights_avg_ntm', 'maximum_nights_avg_ntm', 'has_availability',\n",
       "       'availability_30', 'availability_60', 'availability_90',\n",
       "       'availability_365', 'calendar_last_scraped', 'number_of_reviews',\n",
       "       'number_of_reviews_ltm', 'number_of_reviews_l30d', 'first_review',\n",
       "       'last_review', 'review_scores_rating', 'review_scores_accuracy',\n",
       "       'review_scores_cleanliness', 'review_scores_checkin',\n",
       "       'review_scores_communication', 'review_scores_location',\n",
       "       'review_scores_value', 'license', 'instant_bookable',\n",
       "       'calculated_host_listings_count',\n",
       "       'calculated_host_listings_count_entire_homes',\n",
       "       'calculated_host_listings_count_private_rooms',\n",
       "       'calculated_host_listings_count_shared_rooms', 'reviews_per_month',\n",
       "       'price', 'geometry'],\n",
       "      dtype='object')"
      ]
     },
     "execution_count": 5,
     "metadata": {},
     "output_type": "execute_result"
    }
   ],
   "source": [
    "m_2309_lst.columns"
   ]
  },
  {
   "cell_type": "code",
   "execution_count": 6,
   "id": "df54e9ff",
   "metadata": {
    "scrolled": false
   },
   "outputs": [],
   "source": [
    "#create smaller subset of ...lst keeping only relevant columns\n",
    "m_2309_lst_sml = m_2309_lst[['id', 'last_scraped', 'neighbourhood_cleansed', 'property_type', 'room_type', 'accommodates', 'bathrooms_text', 'bedrooms', 'beds', 'maximum_maximum_nights', 'number_of_reviews', 'price', 'license']].copy()\n",
    "m_2212_lst_sml = m_2212_lst[['id', 'last_scraped', 'neighbourhood_cleansed', 'property_type', 'room_type', 'accommodates', 'bathrooms_text', 'bedrooms', 'beds', 'maximum_maximum_nights', 'number_of_reviews', 'price', 'license']].copy()\n",
    "b_2309_lst_sml = b_2309_lst[['id', 'last_scraped', 'neighbourhood_cleansed', 'property_type', 'room_type', 'accommodates', 'bathrooms_text', 'bedrooms', 'beds', 'maximum_maximum_nights', 'number_of_reviews', 'price', 'license']].copy()\n",
    "b_2212_lst_sml = b_2212_lst[['id', 'last_scraped', 'neighbourhood_cleansed', 'property_type', 'room_type', 'accommodates', 'bathrooms_text', 'bedrooms', 'beds', 'maximum_maximum_nights', 'number_of_reviews', 'price', 'license']].copy()\n",
    "\n",
    "df_list = [m_2309_lst_sml, m_2212_lst_sml, b_2309_lst_sml, b_2212_lst_sml]"
   ]
  },
  {
   "cell_type": "markdown",
   "id": "d3592fea",
   "metadata": {},
   "source": [
    "#### Fix the column \"bathrooms_text\""
   ]
  },
  {
   "cell_type": "code",
   "execution_count": 7,
   "id": "f819685a",
   "metadata": {},
   "outputs": [],
   "source": [
    "for df in df_list:\n",
    "    \n",
    "    #Fill missing values\n",
    "    df.loc[:,'bathrooms_text'] = df['bathrooms_text'].fillna('')\n",
    "\n",
    "    #Replace string \"half-bath\" with \"0.5\"\n",
    "    check = df['bathrooms_text'].str.contains('half-bath|Half-bath')\n",
    "    df.loc[check, 'bathrooms_text'] = '0.5'\n",
    "    df['bathrooms']=df['bathrooms_text'].str.split().str[0].astype(float)"
   ]
  },
  {
   "cell_type": "markdown",
   "id": "255249a7",
   "metadata": {},
   "source": [
    "#### Export subsets for further analysis"
   ]
  },
  {
   "cell_type": "code",
   "execution_count": 8,
   "id": "6b60fabb",
   "metadata": {},
   "outputs": [],
   "source": [
    "m_2309_lst_sml.to_csv('processed/m_2309_lst_sml.csv', index=False)\n",
    "m_2212_lst_sml.to_csv('processed/m_2212_lst_sml.csv', index=False)\n",
    "b_2309_lst_sml.to_csv('processed/b_2309_lst_sml.csv', index=False)\n",
    "b_2212_lst_sml.to_csv('processed/b_2212_lst_sml.csv', index=False)"
   ]
  },
  {
   "cell_type": "code",
   "execution_count": 9,
   "id": "ea4909e3",
   "metadata": {},
   "outputs": [
    {
     "data": {
      "text/plain": [
       "(7336, 14)"
      ]
     },
     "execution_count": 9,
     "metadata": {},
     "output_type": "execute_result"
    }
   ],
   "source": [
    "m_2309_lst_sml.shape"
   ]
  },
  {
   "cell_type": "code",
   "execution_count": 10,
   "id": "2b3e9fe7",
   "metadata": {},
   "outputs": [
    {
     "data": {
      "text/plain": [
       "(5784, 14)"
      ]
     },
     "execution_count": 10,
     "metadata": {},
     "output_type": "execute_result"
    }
   ],
   "source": [
    "m_2212_lst_sml.shape"
   ]
  },
  {
   "cell_type": "code",
   "execution_count": 11,
   "id": "4244acbb",
   "metadata": {},
   "outputs": [
    {
     "data": {
      "text/plain": [
       "(13134, 14)"
      ]
     },
     "execution_count": 11,
     "metadata": {},
     "output_type": "execute_result"
    }
   ],
   "source": [
    "b_2309_lst_sml.shape"
   ]
  },
  {
   "cell_type": "code",
   "execution_count": 12,
   "id": "90dae53c",
   "metadata": {},
   "outputs": [
    {
     "data": {
      "text/plain": [
       "(15718, 14)"
      ]
     },
     "execution_count": 12,
     "metadata": {},
     "output_type": "execute_result"
    }
   ],
   "source": [
    "b_2212_lst_sml.shape"
   ]
  }
 ],
 "metadata": {
  "kernelspec": {
   "display_name": "Python 3 (ipykernel)",
   "language": "python",
   "name": "python3"
  },
  "language_info": {
   "codemirror_mode": {
    "name": "ipython",
    "version": 3
   },
   "file_extension": ".py",
   "mimetype": "text/x-python",
   "name": "python",
   "nbconvert_exporter": "python",
   "pygments_lexer": "ipython3",
   "version": "3.11.5"
  }
 },
 "nbformat": 4,
 "nbformat_minor": 5
}
